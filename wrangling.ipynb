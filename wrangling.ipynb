{
 "cells": [
  {
   "cell_type": "code",
   "execution_count": 1,
   "metadata": {},
   "outputs": [],
   "source": [
    "from pyspark.sql import SparkSession\n",
    "from pyspark.sql.functions import *\n",
    "\n",
    "spark = SparkSession.builder.getOrCreate()"
   ]
  },
  {
   "cell_type": "code",
   "execution_count": 2,
   "metadata": {},
   "outputs": [
    {
     "name": "stdout",
     "output_type": "stream",
     "text": [
      "-RECORD 0------------------------------------\n",
      " case_id              | 1014127332           \n",
      " case_opened_date     | 1/1/18 0:42          \n",
      " case_closed_date     | 1/1/18 12:29         \n",
      " SLA_due_date         | 9/26/20 0:42         \n",
      " case_late            | NO                   \n",
      " num_days_late        | -998.5087616000001   \n",
      " case_closed          | YES                  \n",
      " dept_division        | Field Operations     \n",
      " service_request_type | Stray Animal         \n",
      " SLA_days             | 999.0                \n",
      " case_status          | Closed               \n",
      " source_id            | svcCRMLS             \n",
      " request_address      | 2315  EL PASO ST,... \n",
      " council_district     | 5                    \n",
      "-RECORD 1------------------------------------\n",
      " case_id              | 1014127333           \n",
      " case_opened_date     | 1/1/18 0:46          \n",
      " case_closed_date     | 1/3/18 8:11          \n",
      " SLA_due_date         | 1/5/18 8:30          \n",
      " case_late            | NO                   \n",
      " num_days_late        | -2.0126041669999997  \n",
      " case_closed          | YES                  \n",
      " dept_division        | Storm Water          \n",
      " service_request_type | Removal Of Obstru... \n",
      " SLA_days             | 4.322222222          \n",
      " case_status          | Closed               \n",
      " source_id            | svcCRMSS             \n",
      " request_address      | 2215  GOLIAD RD, ... \n",
      " council_district     | 3                    \n",
      "only showing top 2 rows\n",
      "\n"
     ]
    }
   ],
   "source": [
    "df = spark.read.csv(\"case.csv\", header=True, inferSchema=True)\n",
    "df.show(2, vertical=True)"
   ]
  },
  {
   "cell_type": "code",
   "execution_count": 50,
   "metadata": {},
   "outputs": [
    {
     "name": "stdout",
     "output_type": "stream",
     "text": [
      "+---------+----------------+\n",
      "|source_id| source_username|\n",
      "+---------+----------------+\n",
      "|   100137|Merlene Blodgett|\n",
      "|   103582|     Carmen Cura|\n",
      "|   106463| Richard Sanchez|\n",
      "|   119403|  Betty De Hoyos|\n",
      "+---------+----------------+\n",
      "only showing top 4 rows\n",
      "\n"
     ]
    }
   ],
   "source": [
    "source = spark.read.csv(\"source.csv\", header=True, inferSchema=True)\n",
    "source.show(4)"
   ]
  },
  {
   "cell_type": "code",
   "execution_count": 4,
   "metadata": {},
   "outputs": [
    {
     "name": "stdout",
     "output_type": "stream",
     "text": [
      "-RECORD 0--------------------------------------\n",
      " dept_division          | 311 Call Center      \n",
      " dept_name              | Customer Service     \n",
      " standardized_dept_name | Customer Service     \n",
      " dept_subject_to_SLA    | YES                  \n",
      "-RECORD 1--------------------------------------\n",
      " dept_division          | Brush                \n",
      " dept_name              | Solid Waste Manag... \n",
      " standardized_dept_name | Solid Waste          \n",
      " dept_subject_to_SLA    | YES                  \n",
      "only showing top 2 rows\n",
      "\n"
     ]
    }
   ],
   "source": [
    "dept = spark.read.csv(\"dept.csv\", header=True, inferSchema=True)\n",
    "dept.show(2, vertical=True)"
   ]
  },
  {
   "cell_type": "markdown",
   "metadata": {},
   "source": [
    "Let's see how writing to the local disk works in spark:\n",
    "\n",
    "Write the code necessary to store the source data in both csv and json format, store these as sources_csv and sources_json\\\n",
    "Inspect your folder structure. What do you notice?"
   ]
  },
  {
   "cell_type": "code",
   "execution_count": 5,
   "metadata": {},
   "outputs": [],
   "source": [
    "source.write.json(\"source_json\", mode=\"overwrite\")\n",
    "source.write.csv(\"source_csv\", mode=\"overwrite\")"
   ]
  },
  {
   "cell_type": "markdown",
   "metadata": {},
   "source": [
    "Two folders were created each with a csv/json file and a 'success' file"
   ]
  },
  {
   "cell_type": "markdown",
   "metadata": {},
   "source": [
    "Inspect the data in your dataframes. Are the data types appropriate? Write the code necessary to cast the values to the appropriate types."
   ]
  },
  {
   "cell_type": "code",
   "execution_count": 6,
   "metadata": {},
   "outputs": [
    {
     "data": {
      "text/plain": [
       "[('case_id', 'int'),\n",
       " ('case_opened_date', 'string'),\n",
       " ('case_closed_date', 'string'),\n",
       " ('SLA_due_date', 'string'),\n",
       " ('case_late', 'string'),\n",
       " ('num_days_late', 'double'),\n",
       " ('case_closed', 'string'),\n",
       " ('dept_division', 'string'),\n",
       " ('service_request_type', 'string'),\n",
       " ('SLA_days', 'double'),\n",
       " ('case_status', 'string'),\n",
       " ('source_id', 'string'),\n",
       " ('request_address', 'string'),\n",
       " ('council_district', 'int')]"
      ]
     },
     "execution_count": 6,
     "metadata": {},
     "output_type": "execute_result"
    }
   ],
   "source": [
    "df.dtypes"
   ]
  },
  {
   "cell_type": "code",
   "execution_count": 7,
   "metadata": {},
   "outputs": [],
   "source": [
    "df = df.withColumnRenamed('SLA_due_date', 'case_due_date')"
   ]
  },
  {
   "cell_type": "code",
   "execution_count": 8,
   "metadata": {},
   "outputs": [],
   "source": [
    "df = (\n",
    "    df.withColumn('case_late', col('case_late') == 'YES').\\\n",
    "    withColumn('case_closed', col('case_closed') == 'YES')\n",
    ")"
   ]
  },
  {
   "cell_type": "code",
   "execution_count": 9,
   "metadata": {},
   "outputs": [
    {
     "name": "stdout",
     "output_type": "stream",
     "text": [
      "-RECORD 0------------------------------------\n",
      " case_id              | 1014127332           \n",
      " case_opened_date     | 1/1/18 0:42          \n",
      " case_closed_date     | 1/1/18 12:29         \n",
      " case_due_date        | 9/26/20 0:42         \n",
      " case_late            | false                \n",
      " num_days_late        | -998.5087616000001   \n",
      " case_closed          | true                 \n",
      " dept_division        | Field Operations     \n",
      " service_request_type | Stray Animal         \n",
      " SLA_days             | 999.0                \n",
      " case_status          | Closed               \n",
      " source_id            | svcCRMLS             \n",
      " request_address      | 2315  EL PASO ST,... \n",
      " council_district     | 5                    \n",
      "only showing top 1 row\n",
      "\n"
     ]
    }
   ],
   "source": [
    "df.show(1, vertical = True)"
   ]
  },
  {
   "cell_type": "code",
   "execution_count": null,
   "metadata": {},
   "outputs": [],
   "source": []
  },
  {
   "cell_type": "code",
   "execution_count": 10,
   "metadata": {},
   "outputs": [],
   "source": [
    "df = (\n",
    "    df.withColumn('case_opened_date', to_timestamp(('case_opened_date'), 'M/d/yy H:mm')).\\\n",
    "withColumn('case_closed_date', to_timestamp(('case_closed_date'), 'M/d/yy H:mm')).\\\n",
    "withColumn('case_due_date', to_timestamp(('case_due_date'), 'M/d/yy H:mm'))\n",
    ")"
   ]
  },
  {
   "cell_type": "code",
   "execution_count": 11,
   "metadata": {},
   "outputs": [
    {
     "name": "stdout",
     "output_type": "stream",
     "text": [
      "+---------------+--------------------+----------------------+-------------------+\n",
      "|  dept_division|           dept_name|standardized_dept_name|dept_subject_to_SLA|\n",
      "+---------------+--------------------+----------------------+-------------------+\n",
      "|311 Call Center|    Customer Service|      Customer Service|                YES|\n",
      "|          Brush|Solid Waste Manag...|           Solid Waste|                YES|\n",
      "+---------------+--------------------+----------------------+-------------------+\n",
      "only showing top 2 rows\n",
      "\n"
     ]
    }
   ],
   "source": [
    "dept.show(2)"
   ]
  },
  {
   "cell_type": "code",
   "execution_count": 12,
   "metadata": {},
   "outputs": [
    {
     "data": {
      "text/plain": [
       "[('dept_division', 'string'),\n",
       " ('dept_name', 'string'),\n",
       " ('standardized_dept_name', 'string'),\n",
       " ('dept_subject_to_SLA', 'string')]"
      ]
     },
     "execution_count": 12,
     "metadata": {},
     "output_type": "execute_result"
    }
   ],
   "source": [
    "dept.dtypes"
   ]
  },
  {
   "cell_type": "code",
   "execution_count": 13,
   "metadata": {},
   "outputs": [],
   "source": [
    "#convert column dept_subject_to_SLA to bool\n",
    "dept = dept.withColumn('dept_subject_to_SLA', col('dept_subject_to_SLA')== 'YES')"
   ]
  },
  {
   "cell_type": "code",
   "execution_count": 14,
   "metadata": {},
   "outputs": [
    {
     "data": {
      "text/plain": [
       "[('source_id', 'string'), ('source_username', 'string')]"
      ]
     },
     "execution_count": 14,
     "metadata": {},
     "output_type": "execute_result"
    }
   ],
   "source": [
    "source.dtypes"
   ]
  },
  {
   "cell_type": "markdown",
   "metadata": {},
   "source": [
    "#### How old is the latest (in terms of days past SLA) currently open issue? "
   ]
  },
  {
   "cell_type": "code",
   "execution_count": 121,
   "metadata": {},
   "outputs": [
    {
     "name": "stdout",
     "output_type": "stream",
     "text": [
      "+-------------------+----------------+-------------------+--------+--------------+-------------+\n",
      "|   case_opened_date|case_closed_date|      case_due_date|case_age|days_to_closed|case_lifetime|\n",
      "+-------------------+----------------+-------------------+--------+--------------+-------------+\n",
      "|2017-01-01 13:48:00|            null|2017-01-17 08:30:00|    1239|          null|         1239|\n",
      "+-------------------+----------------+-------------------+--------+--------------+-------------+\n",
      "only showing top 1 row\n",
      "\n"
     ]
    }
   ],
   "source": [
    "(\n",
    "    df.withColumn('case_age', datediff(current_timestamp(), 'case_due_date'))\n",
    "    .withColumn('days_to_closed', datediff('case_closed_date', 'case_opened_date'))\n",
    "    .withColumn('case_lifetime', when(col('case_closed'), col('days_to_closed')).otherwise(col('case_age')))\n",
    "    .filter(~ col('case_closed'))\n",
    "    .select('case_opened_date', 'case_closed_date', 'case_due_date','case_age', 'days_to_closed', 'case_lifetime')\n",
    "    .sort(col('case_age').desc()).show(1)\n",
    ")"
   ]
  },
  {
   "cell_type": "markdown",
   "metadata": {},
   "source": [
    "#### How long has the oldest (in terms of days since opened) currently opened issue been open?"
   ]
  },
  {
   "cell_type": "code",
   "execution_count": 16,
   "metadata": {},
   "outputs": [
    {
     "name": "stdout",
     "output_type": "stream",
     "text": [
      "+-------------------+----------------+-------------------+--------+--------------+-------------+\n",
      "|   case_opened_date|case_closed_date|      case_due_date|case_age|days_to_closed|case_lifetime|\n",
      "+-------------------+----------------+-------------------+--------+--------------+-------------+\n",
      "|2017-01-01 13:57:00|            null|2017-01-17 08:30:00|    1255|          null|         1255|\n",
      "|2017-01-01 13:48:00|            null|2017-01-17 08:30:00|    1255|          null|         1255|\n",
      "+-------------------+----------------+-------------------+--------+--------------+-------------+\n",
      "only showing top 2 rows\n",
      "\n"
     ]
    }
   ],
   "source": [
    "(\n",
    "    df.withColumn('case_age', datediff(current_timestamp(), 'case_opened_date'))\n",
    "    .withColumn('days_to_closed', datediff('case_closed_date', 'case_opened_date'))\n",
    "    .withColumn('case_lifetime', when(col('case_closed'), col('days_to_closed')).otherwise(col('case_age')))\n",
    "    .filter(~ col('case_closed'))\n",
    "    .select('case_opened_date', 'case_closed_date', 'case_due_date','case_age', 'days_to_closed', 'case_lifetime')\n",
    "    .sort(col('case_age').desc()).show(2)\n",
    ")"
   ]
  },
  {
   "cell_type": "markdown",
   "metadata": {},
   "source": [
    "#### How many Stray Animal cases are there?"
   ]
  },
  {
   "cell_type": "code",
   "execution_count": 17,
   "metadata": {},
   "outputs": [
    {
     "data": {
      "text/plain": [
       "26760"
      ]
     },
     "execution_count": 17,
     "metadata": {},
     "output_type": "execute_result"
    }
   ],
   "source": [
    "(df.filter(df.service_request_type == 'Stray Animal')).count()"
   ]
  },
  {
   "cell_type": "markdown",
   "metadata": {},
   "source": [
    "#### How many service requests that are assigned to the Field Operations department (dept_division) are not classified as \"Officer Standby\" request type (service_request_type)?"
   ]
  },
  {
   "cell_type": "code",
   "execution_count": 18,
   "metadata": {},
   "outputs": [
    {
     "data": {
      "text/plain": [
       "113902"
      ]
     },
     "execution_count": 18,
     "metadata": {},
     "output_type": "execute_result"
    }
   ],
   "source": [
    "(df.filter(df.dept_division == \"Field Operations\").filter(df.service_request_type != \"Officer Standby\")).count()"
   ]
  },
  {
   "cell_type": "markdown",
   "metadata": {},
   "source": [
    "#### Convert the council_district column to a string column."
   ]
  },
  {
   "cell_type": "code",
   "execution_count": 19,
   "metadata": {},
   "outputs": [],
   "source": [
    "df = df.withColumn('council_district', format_string('%04d', col('council_district')))"
   ]
  },
  {
   "cell_type": "code",
   "execution_count": 21,
   "metadata": {},
   "outputs": [
    {
     "name": "stdout",
     "output_type": "stream",
     "text": [
      "-RECORD 0------------------------------------\n",
      " case_id              | 1014127332           \n",
      " case_opened_date     | 2018-01-01 00:42:00  \n",
      " case_closed_date     | 2018-01-01 12:29:00  \n",
      " case_due_date        | 2020-09-26 00:42:00  \n",
      " case_late            | false                \n",
      " num_days_late        | -998.5087616000001   \n",
      " case_closed          | true                 \n",
      " dept_division        | Field Operations     \n",
      " service_request_type | Stray Animal         \n",
      " SLA_days             | 999.0                \n",
      " case_status          | Closed               \n",
      " source_id            | svcCRMLS             \n",
      " request_address      | 2315  EL PASO ST,... \n",
      " council_district     | 0005                 \n",
      "only showing top 1 row\n",
      "\n"
     ]
    }
   ],
   "source": [
    "df.show(1, vertical = True)"
   ]
  },
  {
   "cell_type": "markdown",
   "metadata": {},
   "source": [
    "#### Extract the year from the case_closed_date column."
   ]
  },
  {
   "cell_type": "code",
   "execution_count": 31,
   "metadata": {},
   "outputs": [
    {
     "name": "stdout",
     "output_type": "stream",
     "text": [
      "-RECORD 0----------------------\n",
      " year(case_closed_date) | 2018 \n",
      "only showing top 1 row\n",
      "\n"
     ]
    }
   ],
   "source": [
    "df.select( year('case_closed_date')).show(1, vertical = True)"
   ]
  },
  {
   "cell_type": "markdown",
   "metadata": {},
   "source": [
    "#### Convert num_days_late from days to hours in new columns num_hours_late."
   ]
  },
  {
   "cell_type": "code",
   "execution_count": 35,
   "metadata": {},
   "outputs": [
    {
     "name": "stdout",
     "output_type": "stream",
     "text": [
      "-RECORD 0------------------------------------\n",
      " case_id              | 1014127332           \n",
      " case_opened_date     | 2018-01-01 00:42:00  \n",
      " case_closed_date     | 2018-01-01 12:29:00  \n",
      " case_due_date        | 2020-09-26 00:42:00  \n",
      " case_late            | false                \n",
      " num_days_late        | -23964.2102784       \n",
      " case_closed          | true                 \n",
      " dept_division        | Field Operations     \n",
      " service_request_type | Stray Animal         \n",
      " SLA_days             | 999.0                \n",
      " case_status          | Closed               \n",
      " source_id            | svcCRMLS             \n",
      " request_address      | 2315  EL PASO ST,... \n",
      " council_district     | 0005                 \n",
      "only showing top 1 row\n",
      "\n"
     ]
    }
   ],
   "source": [
    "df.withColumn('num_days_late', col('num_days_late')*24).show(1, vertical = True)"
   ]
  },
  {
   "cell_type": "markdown",
   "metadata": {},
   "source": [
    "#### Join the case data with the source and department data."
   ]
  },
  {
   "cell_type": "code",
   "execution_count": 44,
   "metadata": {},
   "outputs": [],
   "source": [
    "df = df.join(dept, \"dept_division\", \"left\").drop(dept.dept_division)\\\n",
    ".drop(dept.dept_name)\\\n",
    ".drop(df.dept_division).withColumnRenamed(\"standardized_dept_name\", \"department\")"
   ]
  },
  {
   "cell_type": "code",
   "execution_count": 51,
   "metadata": {},
   "outputs": [],
   "source": [
    "df = df.join(source, \"source_id\", \"left\")"
   ]
  },
  {
   "cell_type": "markdown",
   "metadata": {},
   "source": [
    "#### Are there any cases that do not have a request source?"
   ]
  },
  {
   "cell_type": "code",
   "execution_count": 61,
   "metadata": {},
   "outputs": [
    {
     "name": "stdout",
     "output_type": "stream",
     "text": [
      "+------------+----------------+\n",
      "|   source_id|count(source_id)|\n",
      "+------------+----------------+\n",
      "|      136202|            3640|\n",
      "|     MW16328|           11010|\n",
      "|      141239|            7407|\n",
      "|     df03076|              17|\n",
      "|      141549|            3125|\n",
      "|     mp21218|           15817|\n",
      "|     sp26368|             124|\n",
      "|      142989|            2827|\n",
      "|     sg26196|               2|\n",
      "|     ec25702|               1|\n",
      "|     bo26471|              11|\n",
      "|     js26451|               3|\n",
      "|     sg22264|            1841|\n",
      "|     js12254|              99|\n",
      "|     ss26317|               5|\n",
      "|     bn26322|              89|\n",
      "|     BA10591|              12|\n",
      "|     jg06389|              42|\n",
      "|      140509|            1705|\n",
      "|     MR25792|               1|\n",
      "|     ns16326|           17234|\n",
      "|     MB16118|             152|\n",
      "|     ls26247|              17|\n",
      "|     rs16746|           11111|\n",
      "|      143900|             296|\n",
      "|      141256|             327|\n",
      "|     ag19640|               2|\n",
      "|     cc17850|            3909|\n",
      "|     RG26608|             138|\n",
      "|     me05816|           19840|\n",
      "|     sw26367|              95|\n",
      "|      139342|           17492|\n",
      "|      141954|               1|\n",
      "|     SG26340|               1|\n",
      "|     lb24838|               1|\n",
      "|      119868|            1833|\n",
      "|      140992|             300|\n",
      "|      120752|            9191|\n",
      "|     cb26321|              10|\n",
      "|     VM16785|            4009|\n",
      "|      141241|            1654|\n",
      "|      103582|            1212|\n",
      "|     dl05036|           13481|\n",
      "|      142991|             373|\n",
      "|     NO10960|           19832|\n",
      "|     mp26640|              93|\n",
      "|      141240|             133|\n",
      "|     FR26584|              34|\n",
      "|      119403|            2806|\n",
      "|     CG13106|               8|\n",
      "|     vk26526|               6|\n",
      "|     WT26601|               7|\n",
      "|     mc21309|           15747|\n",
      "|     DG26131|             182|\n",
      "|     JB26299|              43|\n",
      "|     mt26294|              64|\n",
      "|     ss09159|           13076|\n",
      "|     GG26118|             119|\n",
      "|     BM26349|              20|\n",
      "|      140991|             478|\n",
      "|     af26445|              33|\n",
      "|      141752|              27|\n",
      "|     dl09223|              18|\n",
      "|     dv26072|              45|\n",
      "|      139344|           19238|\n",
      "|     FC24472|              43|\n",
      "|      138793|           18735|\n",
      "|      142738|            3913|\n",
      "|     vb22265|            2021|\n",
      "|      139868|           10301|\n",
      "|     ss21394|           15607|\n",
      "|    svcCFlag|             673|\n",
      "|      142087|             843|\n",
      "|      143245|              13|\n",
      "|      140987|            5530|\n",
      "|     EP17503|               2|\n",
      "|      143098|            1352|\n",
      "|      143520|              85|\n",
      "|      138605|             154|\n",
      "|      143525|             777|\n",
      "|     co26320|              85|\n",
      "|     ru26699|              45|\n",
      "|      140436|           14044|\n",
      "|     dc12381|           14955|\n",
      "|      139807|               2|\n",
      "|     gp20685|           17556|\n",
      "|     mg26820|              19|\n",
      "|      138810|           16173|\n",
      "|     RO15681|               3|\n",
      "|     eg16317|             251|\n",
      "|      143155|            1141|\n",
      "|      137943|            3016|\n",
      "|     ih24384|              33|\n",
      "|     ld04403|             226|\n",
      "|      140507|             367|\n",
      "|     mt23152|            7452|\n",
      "|     lb07325|               3|\n",
      "|     rb05270|             437|\n",
      "|     sv24848|             492|\n",
      "|      143526|             730|\n",
      "|     gg02947|               2|\n",
      "|      140637|             186|\n",
      "|      106463|             130|\n",
      "|      140508|           17506|\n",
      "|      136979|            3859|\n",
      "|    svcCRMSS|          113585|\n",
      "|     at25553|              19|\n",
      "|      135723|            9590|\n",
      "|     dd26293|              57|\n",
      "|      138650|           27130|\n",
      "|     jw10936|           15088|\n",
      "|      142088|             875|\n",
      "|     ES26219|               6|\n",
      "|      143519|             140|\n",
      "|     em25724|              70|\n",
      "|    svcCRMLS|           18445|\n",
      "|     ts15690|             146|\n",
      "|     gg14829|              78|\n",
      "|      143899|             200|\n",
      "|     lg26383|               9|\n",
      "|     DS15677|           18103|\n",
      "|      132408|            1289|\n",
      "|     DB26553|               2|\n",
      "|      124405|           10651|\n",
      "|     mt13131|           19570|\n",
      "|     yh24110|              21|\n",
      "|     np26458|              18|\n",
      "|     ps01944|             213|\n",
      "|      142659|            1557|\n",
      "|      100137|             251|\n",
      "|      142673|              27|\n",
      "|     cm26202|               1|\n",
      "|     yc16753|           15080|\n",
      "|      139345|           14984|\n",
      "|CRM_Listener|          195416|\n",
      "|     CV24443|              29|\n",
      "|      119555|           10656|\n",
      "|      143522|             728|\n",
      "|     ba26670|               7|\n",
      "+------------+----------------+\n",
      "\n"
     ]
    }
   ],
   "source": [
    "df.groupBy('source_id').agg(count('source_id')).show(150)"
   ]
  },
  {
   "cell_type": "markdown",
   "metadata": {},
   "source": [
    "Seems like that all the cases have a request source"
   ]
  },
  {
   "cell_type": "markdown",
   "metadata": {},
   "source": [
    "#### What are the top 10 service request types in terms of number of requests?"
   ]
  },
  {
   "cell_type": "code",
   "execution_count": 69,
   "metadata": {},
   "outputs": [
    {
     "name": "stdout",
     "output_type": "stream",
     "text": [
      "+--------------------+---------------------------+\n",
      "|service_request_type|count(service_request_type)|\n",
      "+--------------------+---------------------------+\n",
      "|           No Pickup|                      89210|\n",
      "|Overgrown Yard/Trash|                      66403|\n",
      "|        Bandit Signs|                      32968|\n",
      "|        Damaged Cart|                      31163|\n",
      "|Front Or Side Yar...|                      28920|\n",
      "|        Stray Animal|                      27361|\n",
      "|Aggressive Animal...|                      25492|\n",
      "|Cart Exchange Req...|                      22608|\n",
      "|Junk Vehicle On P...|                      21649|\n",
      "|     Pot Hole Repair|                      20827|\n",
      "+--------------------+---------------------------+\n",
      "only showing top 10 rows\n",
      "\n"
     ]
    }
   ],
   "source": [
    "df.groupBy('service_request_type').agg(count('service_request_type')).sort(col('count(service_request_type)').desc()).show(10)"
   ]
  },
  {
   "cell_type": "markdown",
   "metadata": {},
   "source": [
    "#### What are the top 10 service request types in terms of average days late?"
   ]
  },
  {
   "cell_type": "code",
   "execution_count": 79,
   "metadata": {},
   "outputs": [
    {
     "name": "stdout",
     "output_type": "stream",
     "text": [
      "+--------------------+------------------+\n",
      "|service_request_type|             count|\n",
      "+--------------------+------------------+\n",
      "|Zoning: Recycle Yard|210.89201994318182|\n",
      "|  Zoning: Junk Yards|200.20517608494276|\n",
      "|Structure/Housing...|190.20707698509804|\n",
      "|Donation Containe...|171.09115313942618|\n",
      "|Storage of Used M...|163.96812829714287|\n",
      "|Labeling for Used...|162.43032902285717|\n",
      "|Record Keeping of...|153.99724039428568|\n",
      "|Signage Requied f...|151.63868055333333|\n",
      "|Traffic Signal Gr...|137.64583330000002|\n",
      "|License Requied U...|128.79828704142858|\n",
      "+--------------------+------------------+\n",
      "only showing top 10 rows\n",
      "\n"
     ]
    }
   ],
   "source": [
    "df.filter(df.num_days_late > 0).groupby('service_request_type').agg(mean('num_days_late').alias('count')).sort(col('count').desc()).show(10)"
   ]
  },
  {
   "cell_type": "markdown",
   "metadata": {},
   "source": [
    "#### Does number of days late depend on department?"
   ]
  },
  {
   "cell_type": "code",
   "execution_count": 80,
   "metadata": {},
   "outputs": [
    {
     "name": "stdout",
     "output_type": "stream",
     "text": [
      "+--------------------+------------------+\n",
      "|          department|             count|\n",
      "+--------------------+------------------+\n",
      "|    Customer Service| 88.18248182589824|\n",
      "|DSD/Code Enforcement| 49.50633998635033|\n",
      "|Animal Care Services| 23.44672963473822|\n",
      "|  Parks & Recreation|22.427807192724128|\n",
      "|Trans & Cap Impro...| 10.66295045507867|\n",
      "|         Solid Waste| 7.147172789557422|\n",
      "|        Metro Health| 6.494699602827868|\n",
      "+--------------------+------------------+\n",
      "\n"
     ]
    }
   ],
   "source": [
    "df.filter(df.num_days_late > 0).groupby('department').agg(mean('num_days_late').alias('count')).sort(col('count').desc()).show(10)\n"
   ]
  },
  {
   "cell_type": "markdown",
   "metadata": {},
   "source": [
    "#### How do number of days late depend on department and request type?"
   ]
  },
  {
   "cell_type": "code",
   "execution_count": 82,
   "metadata": {},
   "outputs": [
    {
     "name": "stdout",
     "output_type": "stream",
     "text": [
      "+--------------------+--------------------+------------------+\n",
      "|service_request_type|          department|             count|\n",
      "+--------------------+--------------------+------------------+\n",
      "|Zoning: Recycle Yard|DSD/Code Enforcement|210.89201994318182|\n",
      "|  Zoning: Junk Yards|DSD/Code Enforcement|200.20517608494276|\n",
      "|Structure/Housing...|DSD/Code Enforcement|190.20707698509804|\n",
      "|Donation Containe...|DSD/Code Enforcement|171.09115313942618|\n",
      "|Storage of Used M...|DSD/Code Enforcement|163.96812829714287|\n",
      "|Labeling for Used...|DSD/Code Enforcement|162.43032902285717|\n",
      "|Record Keeping of...|DSD/Code Enforcement|153.99724039428568|\n",
      "|Signage Requied f...|DSD/Code Enforcement|151.63868055333333|\n",
      "|Traffic Signal Gr...|Trans & Cap Impro...|137.64583330000002|\n",
      "|License Requied U...|DSD/Code Enforcement|128.79828704142858|\n",
      "+--------------------+--------------------+------------------+\n",
      "only showing top 10 rows\n",
      "\n"
     ]
    }
   ],
   "source": [
    "df.filter(df.num_days_late > 0).groupby('service_request_type', 'department').agg(mean('num_days_late').alias('count')).sort(col('count').desc()).show(10)"
   ]
  },
  {
   "cell_type": "code",
   "execution_count": 131,
   "metadata": {},
   "outputs": [],
   "source": [
    "latest_date = df.select(max(df.case_closed_date)).alias('latest_date').first()[0]"
   ]
  },
  {
   "cell_type": "code",
   "execution_count": 132,
   "metadata": {},
   "outputs": [],
   "source": [
    "latest_date = latest_date.strftime('%Y-%m-%d %H:%M:%S')"
   ]
  },
  {
   "cell_type": "code",
   "execution_count": 133,
   "metadata": {},
   "outputs": [
    {
     "name": "stdout",
     "output_type": "stream",
     "text": [
      "+-------------------+----------------+-------------------+-------------+\n",
      "|   case_opened_date|case_closed_date|      case_due_date|case_lifetime|\n",
      "+-------------------+----------------+-------------------+-------------+\n",
      "|2017-08-11 09:24:00|            null|2017-12-18 09:24:00|         null|\n",
      "|2017-08-11 10:01:00|            null|2017-12-18 10:01:00|         null|\n",
      "+-------------------+----------------+-------------------+-------------+\n",
      "only showing top 2 rows\n",
      "\n"
     ]
    }
   ],
   "source": [
    "(\n",
    "    df.withColumn('case_age', datediff(lit('latest_date'), 'case_opened_date'))\n",
    "    .withColumn('days_to_closed', datediff('case_closed_date', 'case_opened_date'))\n",
    "    .withColumn('case_lifetime', when(col('case_closed'), col('days_to_closed')).otherwise(col('case_age')))\n",
    "    .filter(~ col('case_closed'))\n",
    "    .select('case_opened_date', 'case_closed_date', 'case_due_date', 'case_lifetime')\n",
    "    .sort(col('case_age').desc()).show(2)\n",
    ")"
   ]
  },
  {
   "cell_type": "code",
   "execution_count": null,
   "metadata": {},
   "outputs": [],
   "source": []
  }
 ],
 "metadata": {
  "kernelspec": {
   "display_name": "Python 3",
   "language": "python",
   "name": "python3"
  },
  "language_info": {
   "codemirror_mode": {
    "name": "ipython",
    "version": 3
   },
   "file_extension": ".py",
   "mimetype": "text/x-python",
   "name": "python",
   "nbconvert_exporter": "python",
   "pygments_lexer": "ipython3",
   "version": "3.7.6"
  }
 },
 "nbformat": 4,
 "nbformat_minor": 4
}
