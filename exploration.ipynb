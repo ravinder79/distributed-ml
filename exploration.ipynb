{
 "cells": [
  {
   "cell_type": "code",
   "execution_count": 1,
   "metadata": {},
   "outputs": [],
   "source": [
    "from pyspark.sql import SparkSession\n",
    "from pyspark.sql.functions import *\n",
    "\n",
    "spark = SparkSession.builder.getOrCreate()"
   ]
  },
  {
   "cell_type": "markdown",
   "metadata": {},
   "source": [
    "Answer the questions below by using a combination of the techniques discussed in the lesson that you think is appropriate."
   ]
  },
  {
   "cell_type": "code",
   "execution_count": 2,
   "metadata": {},
   "outputs": [
    {
     "name": "stdout",
     "output_type": "stream",
     "text": [
      "-RECORD 0------------------------------------\n",
      " case_id              | 1014127332           \n",
      " case_opened_date     | 1/1/18 0:42          \n",
      " case_closed_date     | 1/1/18 12:29         \n",
      " SLA_due_date         | 9/26/20 0:42         \n",
      " case_late            | NO                   \n",
      " num_days_late        | -998.5087616000001   \n",
      " case_closed          | YES                  \n",
      " dept_division        | Field Operations     \n",
      " service_request_type | Stray Animal         \n",
      " SLA_days             | 999.0                \n",
      " case_status          | Closed               \n",
      " source_id            | svcCRMLS             \n",
      " request_address      | 2315  EL PASO ST,... \n",
      " council_district     | 5                    \n",
      "-RECORD 1------------------------------------\n",
      " case_id              | 1014127333           \n",
      " case_opened_date     | 1/1/18 0:46          \n",
      " case_closed_date     | 1/3/18 8:11          \n",
      " SLA_due_date         | 1/5/18 8:30          \n",
      " case_late            | NO                   \n",
      " num_days_late        | -2.0126041669999997  \n",
      " case_closed          | YES                  \n",
      " dept_division        | Storm Water          \n",
      " service_request_type | Removal Of Obstru... \n",
      " SLA_days             | 4.322222222          \n",
      " case_status          | Closed               \n",
      " source_id            | svcCRMSS             \n",
      " request_address      | 2215  GOLIAD RD, ... \n",
      " council_district     | 3                    \n",
      "only showing top 2 rows\n",
      "\n"
     ]
    }
   ],
   "source": [
    "df = spark.read.csv(\"case.csv\", header=True, inferSchema=True)\n",
    "df.show(2, vertical=True)"
   ]
  },
  {
   "cell_type": "code",
   "execution_count": 11,
   "metadata": {},
   "outputs": [
    {
     "name": "stdout",
     "output_type": "stream",
     "text": [
      "+---------+----------------+\n",
      "|source_id| source_username|\n",
      "+---------+----------------+\n",
      "|   100137|Merlene Blodgett|\n",
      "|   103582|     Carmen Cura|\n",
      "|   106463| Richard Sanchez|\n",
      "|   119403|  Betty De Hoyos|\n",
      "+---------+----------------+\n",
      "only showing top 4 rows\n",
      "\n"
     ]
    }
   ],
   "source": [
    "source = spark.read.csv(\"source.csv\", header=True, inferSchema=True)\n",
    "source.show(4)"
   ]
  },
  {
   "cell_type": "code",
   "execution_count": 3,
   "metadata": {},
   "outputs": [
    {
     "name": "stdout",
     "output_type": "stream",
     "text": [
      "-RECORD 0--------------------------------------\n",
      " dept_division          | 311 Call Center      \n",
      " dept_name              | Customer Service     \n",
      " standardized_dept_name | Customer Service     \n",
      " dept_subject_to_SLA    | YES                  \n",
      "-RECORD 1--------------------------------------\n",
      " dept_division          | Brush                \n",
      " dept_name              | Solid Waste Manag... \n",
      " standardized_dept_name | Solid Waste          \n",
      " dept_subject_to_SLA    | YES                  \n",
      "only showing top 2 rows\n",
      "\n"
     ]
    }
   ],
   "source": [
    "dept = spark.read.csv(\"dept.csv\", header=True, inferSchema=True)\n",
    "dept.show(2, vertical=True)"
   ]
  },
  {
   "cell_type": "code",
   "execution_count": 4,
   "metadata": {},
   "outputs": [],
   "source": [
    "df = df.withColumnRenamed('SLA_due_date', 'case_due_date')"
   ]
  },
  {
   "cell_type": "code",
   "execution_count": 5,
   "metadata": {},
   "outputs": [],
   "source": [
    "df = (\n",
    "    df.withColumn('case_late', col('case_late') == 'YES').\\\n",
    "    withColumn('case_closed', col('case_closed') == 'YES')\n",
    ")"
   ]
  },
  {
   "cell_type": "code",
   "execution_count": 6,
   "metadata": {},
   "outputs": [],
   "source": [
    "df = (\n",
    "    df.withColumn('case_opened_date', to_timestamp(('case_opened_date'), 'M/d/yy H:mm')).\\\n",
    "withColumn('case_closed_date', to_timestamp(('case_closed_date'), 'M/d/yy H:mm')).\\\n",
    "withColumn('case_due_date', to_timestamp(('case_due_date'), 'M/d/yy H:mm'))\n",
    ")"
   ]
  },
  {
   "cell_type": "code",
   "execution_count": 7,
   "metadata": {},
   "outputs": [
    {
     "name": "stdout",
     "output_type": "stream",
     "text": [
      "+-------------------+----------------+-------------------+-------------+\n",
      "|   case_opened_date|case_closed_date|      case_due_date|case_lifetime|\n",
      "+-------------------+----------------+-------------------+-------------+\n",
      "|2017-08-11 09:24:00|            null|2017-12-18 09:24:00|         null|\n",
      "|2017-08-11 10:01:00|            null|2017-12-18 10:01:00|         null|\n",
      "+-------------------+----------------+-------------------+-------------+\n",
      "only showing top 2 rows\n",
      "\n"
     ]
    }
   ],
   "source": [
    "(\n",
    "    df.withColumn('case_age', datediff(lit('latest_date'), 'case_opened_date'))\n",
    "    .withColumn('days_to_closed', datediff('case_closed_date', 'case_opened_date'))\n",
    "    .withColumn('case_lifetime', when(col('case_closed'), col('days_to_closed')).otherwise(col('case_age')))\n",
    "    .filter(~ col('case_closed'))\n",
    "    .select('case_opened_date', 'case_closed_date', 'case_due_date', 'case_lifetime')\n",
    "    .sort(col('case_age').desc()).show(2)\n",
    ")"
   ]
  },
  {
   "cell_type": "code",
   "execution_count": 9,
   "metadata": {},
   "outputs": [],
   "source": [
    "df = df.join(dept, \"dept_division\", \"left\").drop(dept.dept_division)\\\n",
    ".drop(dept.dept_name)\\\n",
    ".drop(df.dept_division).withColumnRenamed(\"standardized_dept_name\", \"department\")"
   ]
  },
  {
   "cell_type": "code",
   "execution_count": 12,
   "metadata": {},
   "outputs": [],
   "source": [
    "df = df.join(source, \"source_id\", \"left\")"
   ]
  },
  {
   "cell_type": "markdown",
   "metadata": {},
   "source": [
    "#### How many different cases are there, by department?"
   ]
  },
  {
   "cell_type": "code",
   "execution_count": 13,
   "metadata": {},
   "outputs": [
    {
     "name": "stdout",
     "output_type": "stream",
     "text": [
      "-RECORD 0------------------------------------\n",
      " source_id            | svcCRMLS             \n",
      " case_id              | 1014127332           \n",
      " case_opened_date     | 2018-01-01 00:42:00  \n",
      " case_closed_date     | 2018-01-01 12:29:00  \n",
      " case_due_date        | 2020-09-26 00:42:00  \n",
      " case_late            | false                \n",
      " num_days_late        | -998.5087616000001   \n",
      " case_closed          | true                 \n",
      " service_request_type | Stray Animal         \n",
      " SLA_days             | 999.0                \n",
      " case_status          | Closed               \n",
      " request_address      | 2315  EL PASO ST,... \n",
      " council_district     | 5                    \n",
      " department           | Animal Care Services \n",
      " dept_subject_to_SLA  | YES                  \n",
      " source_username      | svcCRMLS             \n",
      "only showing top 1 row\n",
      "\n"
     ]
    }
   ],
   "source": [
    "df.show(1, vertical = True)"
   ]
  },
  {
   "cell_type": "code",
   "execution_count": 17,
   "metadata": {},
   "outputs": [
    {
     "name": "stdout",
     "output_type": "stream",
     "text": [
      "-RECORD 0------------------------------\n",
      " department     | Solid Waste          \n",
      " count(case_id) | 286287               \n",
      "-RECORD 1------------------------------\n",
      " department     | Animal Care Services \n",
      " count(case_id) | 119362               \n",
      "-RECORD 2------------------------------\n",
      " department     | Trans & Cap Impro... \n",
      " count(case_id) | 97841                \n",
      "-RECORD 3------------------------------\n",
      " department     | Parks & Recreation   \n",
      " count(case_id) | 19964                \n",
      "-RECORD 4------------------------------\n",
      " department     | Customer Service     \n",
      " count(case_id) | 2889                 \n",
      "-RECORD 5------------------------------\n",
      " department     | Metro Health         \n",
      " count(case_id) | 5313                 \n",
      "-RECORD 6------------------------------\n",
      " department     | City Council         \n",
      " count(case_id) | 34                   \n",
      "-RECORD 7------------------------------\n",
      " department     | DSD/Code Enforcement \n",
      " count(case_id) | 323579               \n",
      "\n"
     ]
    }
   ],
   "source": [
    "df.groupBy('department').agg(count('case_id')).show( vertical = True)"
   ]
  },
  {
   "cell_type": "markdown",
   "metadata": {},
   "source": [
    "#### Does the percentage of cases that are late vary by department?"
   ]
  },
  {
   "cell_type": "code",
   "execution_count": 23,
   "metadata": {},
   "outputs": [
    {
     "data": {
      "text/plain": [
       "<pyspark.sql.group.GroupedData at 0x11fcdaa90>"
      ]
     },
     "execution_count": 23,
     "metadata": {},
     "output_type": "execute_result"
    }
   ],
   "source": [
    "df.filter(df.num_days_late>1).groupBy('department').agg()"
   ]
  },
  {
   "cell_type": "code",
   "execution_count": 33,
   "metadata": {},
   "outputs": [
    {
     "name": "stdout",
     "output_type": "stream",
     "text": [
      "-RECORD 0------------------------------------------\n",
      " department                 | Solid Waste          \n",
      " (avg(num_days_late) * 100) | 11.781533915266849   \n",
      "-RECORD 1------------------------------------------\n",
      " department                 | Animal Care Services \n",
      " (avg(num_days_late) * 100) | 19.898292588931152   \n",
      "-RECORD 2------------------------------------------\n",
      " department                 | Trans & Cap Impro... \n",
      " (avg(num_days_late) * 100) | 5.651005202318047    \n",
      "-RECORD 3------------------------------------------\n",
      " department                 | Parks & Recreation   \n",
      " (avg(num_days_late) * 100) | 19.08435183329994    \n",
      "-RECORD 4------------------------------------------\n",
      " department                 | Customer Service     \n",
      " (avg(num_days_late) * 100) | 70.43959847698166    \n",
      "-RECORD 5------------------------------------------\n",
      " department                 | Metro Health         \n",
      " (avg(num_days_late) * 100) | 16.073781291172594   \n",
      "-RECORD 6------------------------------------------\n",
      " department                 | City Council         \n",
      " (avg(num_days_late) * 100) | 0.0                  \n",
      "-RECORD 7------------------------------------------\n",
      " department                 | DSD/Code Enforcement \n",
      " (avg(num_days_late) * 100) | 8.170802184319749    \n",
      "\n"
     ]
    }
   ],
   "source": [
    "(df\n",
    " .withColumn('num_days_late', (when(col('num_days_late') > 0, 1).otherwise(0)))\\\n",
    " .groupBy('department').agg(mean('num_days_late')*100)).show(vertical = True)"
   ]
  },
  {
   "cell_type": "markdown",
   "metadata": {},
   "source": [
    "#### On average, how late are the late cases by department?"
   ]
  },
  {
   "cell_type": "code",
   "execution_count": 37,
   "metadata": {},
   "outputs": [
    {
     "name": "stdout",
     "output_type": "stream",
     "text": [
      "-RECORD 0----------------------------------\n",
      " department         | Solid Waste          \n",
      " avg(num_days_late) | 7.147172789557422    \n",
      "-RECORD 1----------------------------------\n",
      " department         | Animal Care Services \n",
      " avg(num_days_late) | 23.44672963473822    \n",
      "-RECORD 2----------------------------------\n",
      " department         | Trans & Cap Impro... \n",
      " avg(num_days_late) | 10.66295045507867    \n",
      "-RECORD 3----------------------------------\n",
      " department         | Parks & Recreation   \n",
      " avg(num_days_late) | 22.427807192724128   \n",
      "-RECORD 4----------------------------------\n",
      " department         | Customer Service     \n",
      " avg(num_days_late) | 88.18248182589824    \n",
      "-RECORD 5----------------------------------\n",
      " department         | Metro Health         \n",
      " avg(num_days_late) | 6.494699602827868    \n",
      "-RECORD 6----------------------------------\n",
      " department         | DSD/Code Enforcement \n",
      " avg(num_days_late) | 49.50633998635033    \n",
      "\n"
     ]
    }
   ],
   "source": [
    "(df.filter(df.num_days_late >0)\\\n",
    " .groupBy('department').agg(mean('num_days_late'))).show(vertical = True)"
   ]
  },
  {
   "cell_type": "markdown",
   "metadata": {},
   "source": [
    "#### What is the service type that is the most late? Just for Parks & Rec?"
   ]
  },
  {
   "cell_type": "code",
   "execution_count": 51,
   "metadata": {},
   "outputs": [
    {
     "name": "stdout",
     "output_type": "stream",
     "text": [
      "-RECORD 0------------------------------------\n",
      " service_request_type | Zoning: Recycle Yard \n",
      " avg(num_days_late)   | 210.89201994318182   \n",
      "-RECORD 1------------------------------------\n",
      " service_request_type | Zoning: Junk Yards   \n",
      " avg(num_days_late)   | 200.20517608494276   \n",
      "only showing top 2 rows\n",
      "\n"
     ]
    }
   ],
   "source": [
    "(df.filter(df.num_days_late >0)\\\n",
    " .groupBy('service_request_type').agg(mean('num_days_late'))).sort(col('avg(num_days_late)').desc()).show(2,vertical = True)"
   ]
  },
  {
   "cell_type": "code",
   "execution_count": 58,
   "metadata": {},
   "outputs": [
    {
     "name": "stdout",
     "output_type": "stream",
     "text": [
      "-RECORD 0----------------------------------------------\n",
      " service_request_type | Amenity Park Improvement       \n",
      " avg(num_days_late)   | 76.60603677123078              \n",
      "-RECORD 1----------------------------------------------\n",
      " service_request_type | Major Park Improvement Install \n",
      " avg(num_days_late)   | 75.79450367282352              \n",
      "only showing top 2 rows\n",
      "\n"
     ]
    }
   ],
   "source": [
    "(df.filter(df.num_days_late >0).filter(df.department == 'Parks & Recreation')\\\n",
    " .groupBy('service_request_type').agg(mean('num_days_late'))).sort(col('avg(num_days_late)').desc()).show(2,vertical = True, truncate = False)"
   ]
  },
  {
   "cell_type": "markdown",
   "metadata": {},
   "source": [
    "#### For the DSD/Code Enforcement department, what are the most common service request types? Look at other departments too."
   ]
  },
  {
   "cell_type": "code",
   "execution_count": 65,
   "metadata": {},
   "outputs": [
    {
     "name": "stdout",
     "output_type": "stream",
     "text": [
      "-RECORD 0-------------------------------------------------------\n",
      " service_request_type        | Overgrown Yard/Trash             \n",
      " count(service_request_type) | 66403                            \n",
      "-RECORD 1-------------------------------------------------------\n",
      " service_request_type        | Bandit Signs                     \n",
      " count(service_request_type) | 32968                            \n",
      "-RECORD 2-------------------------------------------------------\n",
      " service_request_type        | Front Or Side Yard Parking       \n",
      " count(service_request_type) | 28920                            \n",
      "-RECORD 3-------------------------------------------------------\n",
      " service_request_type        | Junk Vehicle On Private Property \n",
      " count(service_request_type) | 21649                            \n",
      "only showing top 4 rows\n",
      "\n"
     ]
    }
   ],
   "source": [
    "(df.filter(df.department == 'DSD/Code Enforcement')\\\n",
    ".groupby('service_request_type').agg(count('service_request_type')).sort(col('count(service_request_type)').desc()).show(4,vertical = True, truncate = False))"
   ]
  },
  {
   "cell_type": "markdown",
   "metadata": {},
   "source": [
    "#### Does whether or not its a weekend matter for when a case is opened/closed?"
   ]
  },
  {
   "cell_type": "code",
   "execution_count": 76,
   "metadata": {},
   "outputs": [
    {
     "name": "stdout",
     "output_type": "stream",
     "text": [
      "-RECORD 0----------------\n",
      " weekday        | null   \n",
      " count(weekday) | 0      \n",
      "-RECORD 1----------------\n",
      " weekday        | 1      \n",
      " count(weekday) | 27276  \n",
      "-RECORD 2----------------\n",
      " weekday        | 6      \n",
      " count(weekday) | 131026 \n",
      "-RECORD 3----------------\n",
      " weekday        | 3      \n",
      " count(weekday) | 157360 \n",
      "-RECORD 4----------------\n",
      " weekday        | 5      \n",
      " count(weekday) | 148120 \n",
      "-RECORD 5----------------\n",
      " weekday        | 4      \n",
      " count(weekday) | 173833 \n",
      "-RECORD 6----------------\n",
      " weekday        | 7      \n",
      " count(weekday) | 62327  \n",
      "-RECORD 7----------------\n",
      " weekday        | 2      \n",
      " count(weekday) | 136994 \n",
      "\n"
     ]
    }
   ],
   "source": [
    "(df.withColumn(\"weekday\", dayofweek(\"case_closed_date\")\\\n",
    "              .cast(\"int\")).groupBy('weekday').agg(count('weekday'))).show(vertical = True)"
   ]
  },
  {
   "cell_type": "code",
   "execution_count": 78,
   "metadata": {},
   "outputs": [
    {
     "name": "stdout",
     "output_type": "stream",
     "text": [
      "-RECORD 0----------------\n",
      " weekday        | null   \n",
      " count(weekday) | 0      \n",
      "-RECORD 1----------------\n",
      " weekday        | 1      \n",
      " count(weekday) | 29327  \n",
      "-RECORD 2----------------\n",
      " weekday        | 6      \n",
      " count(weekday) | 145242 \n",
      "-RECORD 3----------------\n",
      " weekday        | 3      \n",
      " count(weekday) | 164608 \n",
      "-RECORD 4----------------\n",
      " weekday        | 5      \n",
      " count(weekday) | 155919 \n",
      "-RECORD 5----------------\n",
      " weekday        | 4      \n",
      " count(weekday) | 149783 \n",
      "-RECORD 6----------------\n",
      " weekday        | 7      \n",
      " count(weekday) | 54593  \n",
      "-RECORD 7----------------\n",
      " weekday        | 2      \n",
      " count(weekday) | 155781 \n",
      "\n"
     ]
    }
   ],
   "source": [
    "(df.withColumn(\"weekday\", dayofweek(\"case_opened_date\")\\\n",
    "              .cast(\"int\")).groupBy('weekday').agg(count('weekday'))).show(vertical = True)"
   ]
  },
  {
   "cell_type": "markdown",
   "metadata": {},
   "source": [
    "#### On average, how many cases are opened a day for the Customer Service department?"
   ]
  },
  {
   "cell_type": "code",
   "execution_count": 84,
   "metadata": {},
   "outputs": [
    {
     "name": "stdout",
     "output_type": "stream",
     "text": [
      "+---------------------+\n",
      "|max(case_closed_date)|\n",
      "+---------------------+\n",
      "|  2018-08-08 10:38:00|\n",
      "+---------------------+\n",
      "\n"
     ]
    }
   ],
   "source": [
    "df.select(max(df.case_closed_date)).show()"
   ]
  },
  {
   "cell_type": "code",
   "execution_count": 91,
   "metadata": {},
   "outputs": [
    {
     "data": {
      "text/plain": [
       "584"
      ]
     },
     "execution_count": 91,
     "metadata": {},
     "output_type": "execute_result"
    }
   ],
   "source": [
    "days = df.select(datediff((max(df.case_closed_date)), (min(df.case_closed_date)))).first()[0]\n",
    "days"
   ]
  },
  {
   "cell_type": "code",
   "execution_count": 94,
   "metadata": {},
   "outputs": [
    {
     "data": {
      "text/plain": [
       "4.946917808219178"
      ]
     },
     "execution_count": 94,
     "metadata": {},
     "output_type": "execute_result"
    }
   ],
   "source": [
    "df.filter(df.department == 'Customer Service').count()/days"
   ]
  },
  {
   "cell_type": "markdown",
   "metadata": {},
   "source": [
    "#### Does the number of service requests for the solid waste department vary by day of the week?"
   ]
  },
  {
   "cell_type": "code",
   "execution_count": 96,
   "metadata": {},
   "outputs": [
    {
     "name": "stdout",
     "output_type": "stream",
     "text": [
      "-RECORD 0---------------\n",
      " weekday        | null  \n",
      " count(weekday) | 0     \n",
      "-RECORD 1---------------\n",
      " weekday        | 1     \n",
      " count(weekday) | 7102  \n",
      "-RECORD 2---------------\n",
      " weekday        | 6     \n",
      " count(weekday) | 52121 \n",
      "-RECORD 3---------------\n",
      " weekday        | 3     \n",
      " count(weekday) | 59759 \n",
      "-RECORD 4---------------\n",
      " weekday        | 5     \n",
      " count(weekday) | 48914 \n",
      "-RECORD 5---------------\n",
      " weekday        | 4     \n",
      " count(weekday) | 43150 \n",
      "-RECORD 6---------------\n",
      " weekday        | 7     \n",
      " count(weekday) | 15721 \n",
      "-RECORD 7---------------\n",
      " weekday        | 2     \n",
      " count(weekday) | 59517 \n",
      "\n"
     ]
    }
   ],
   "source": [
    "(df.filter(df.department == 'Solid Waste').withColumn(\"weekday\", dayofweek(\"case_opened_date\")\\\n",
    "              .cast(\"int\")).groupBy('weekday').agg(count('weekday'))).show(vertical = True)"
   ]
  },
  {
   "cell_type": "code",
   "execution_count": null,
   "metadata": {},
   "outputs": [],
   "source": []
  }
 ],
 "metadata": {
  "kernelspec": {
   "display_name": "Python 3",
   "language": "python",
   "name": "python3"
  },
  "language_info": {
   "codemirror_mode": {
    "name": "ipython",
    "version": 3
   },
   "file_extension": ".py",
   "mimetype": "text/x-python",
   "name": "python",
   "nbconvert_exporter": "python",
   "pygments_lexer": "ipython3",
   "version": "3.7.6"
  }
 },
 "nbformat": 4,
 "nbformat_minor": 4
}
